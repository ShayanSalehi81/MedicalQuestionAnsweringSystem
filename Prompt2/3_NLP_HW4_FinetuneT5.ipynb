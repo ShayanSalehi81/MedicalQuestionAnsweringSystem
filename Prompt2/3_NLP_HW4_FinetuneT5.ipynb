{
  "cells": [
    {
      "cell_type": "code",
      "execution_count": null,
      "metadata": {
        "id": "Qe8IOnbwJXI8"
      },
      "outputs": [],
      "source": [
        "!pip install nltk\n",
        "!pip install rouge_score\n",
        "!pip install bert-score transformers\n",
        "!pip install jovian --upgrade --quiet\n",
        "!pip install datasets\n",
        "!pip install evaluate\n",
        "!pip install rouge"
      ]
    },
    {
      "cell_type": "markdown",
      "metadata": {
        "id": "B8vKlQH-I_0H"
      },
      "source": [
        "##Metrics"
      ]
    },
    {
      "cell_type": "markdown",
      "metadata": {
        "id": "jZZ8h1hWJOKL"
      },
      "source": [
        "Bleu{1,2,3,4}"
      ]
    },
    {
      "cell_type": "code",
      "execution_count": 2,
      "metadata": {
        "colab": {
          "base_uri": "https://localhost:8080/"
        },
        "id": "Ft7eoNooJMvh",
        "outputId": "e699f158-6967-42f2-eb79-96a9532c0d55"
      },
      "outputs": [
        {
          "output_type": "stream",
          "name": "stderr",
          "text": [
            "[nltk_data] Downloading package punkt to /root/nltk_data...\n",
            "[nltk_data]   Unzipping tokenizers/punkt.zip.\n"
          ]
        },
        {
          "output_type": "stream",
          "name": "stdout",
          "text": [
            "{'BLEU-1': 0.42857142857142855, 'BLEU-2': 0.26726124191242434, 'BLEU-3': 0.11511121735118796, 'BLEU-4': 0.07730551756939454}\n"
          ]
        }
      ],
      "source": [
        "import nltk\n",
        "from nltk.translate.bleu_score import sentence_bleu, SmoothingFunction\n",
        "\n",
        "nltk.download('punkt')\n",
        "\n",
        "def calculate_bleu(candidate, references):\n",
        "    candidate_tokens = nltk.word_tokenize(candidate)\n",
        "    reference_tokens = [nltk.word_tokenize(ref) for ref in references]\n",
        "\n",
        "    smoothing = SmoothingFunction().method1\n",
        "    bleu_1 = sentence_bleu(reference_tokens, candidate_tokens, weights=(1, 0, 0, 0), smoothing_function=smoothing)\n",
        "    bleu_2 = sentence_bleu(reference_tokens, candidate_tokens, weights=(0.5, 0.5, 0, 0), smoothing_function=smoothing)\n",
        "    bleu_3 = sentence_bleu(reference_tokens, candidate_tokens, weights=(0.33, 0.33, 0.33, 0), smoothing_function=smoothing)\n",
        "    bleu_4 = sentence_bleu(reference_tokens, candidate_tokens, weights=(0.25, 0.25, 0.25, 0.25), smoothing_function=smoothing)\n",
        "\n",
        "    return {\n",
        "        'BLEU-1': bleu_1,\n",
        "        'BLEU-2': bleu_2,\n",
        "        'BLEU-3': bleu_3,\n",
        "        'BLEU-4': bleu_4\n",
        "    }\n",
        "\n",
        "candidate = \"The study investigates the effect of ...\"\n",
        "references = [\"This research explores the impact of ...\"]\n",
        "bleu_scores = calculate_bleu(candidate, references)\n",
        "print(bleu_scores)"
      ]
    },
    {
      "cell_type": "code",
      "execution_count": 3,
      "metadata": {
        "colab": {
          "base_uri": "https://localhost:8080/"
        },
        "id": "z96W2QoAJgbZ",
        "outputId": "0bb13103-6d70-45c3-9fc9-1f65795890f0"
      },
      "outputs": [
        {
          "output_type": "stream",
          "name": "stdout",
          "text": [
            "{'ROUGE-1': 0.3333333333333333, 'ROUGE-2': 0.0, 'ROUGE-L': 0.3333333333333333}\n"
          ]
        }
      ],
      "source": [
        "from rouge_score import rouge_scorer\n",
        "\n",
        "def calculate_rouge(candidate, reference):\n",
        "    scorer = rouge_scorer.RougeScorer(['rouge1', 'rouge2', 'rougeL'], use_stemmer=True)\n",
        "\n",
        "    scores = scorer.score(reference, candidate)\n",
        "\n",
        "    return {\n",
        "        'ROUGE-1': scores['rouge1'].fmeasure,\n",
        "        'ROUGE-2': scores['rouge2'].fmeasure,\n",
        "        'ROUGE-L': scores['rougeL'].fmeasure\n",
        "    }\n",
        "\n",
        "candidate = \"The study investigates the effect of ...\"\n",
        "reference = \"This research explores the impact of ...\"\n",
        "rouge_scores = calculate_rouge(candidate, reference)\n",
        "print(rouge_scores)"
      ]
    },
    {
      "cell_type": "code",
      "execution_count": 4,
      "metadata": {
        "id": "Y0P15LaVClKp"
      },
      "outputs": [],
      "source": [
        "import torch\n",
        "from transformers import AutoTokenizer, AutoModel\n",
        "from sklearn.metrics.pairwise import cosine_similarity\n",
        "import numpy as np"
      ]
    },
    {
      "cell_type": "code",
      "execution_count": null,
      "metadata": {
        "id": "26fMEjz8CnPa"
      },
      "outputs": [],
      "source": [
        "tokenizer = AutoTokenizer.from_pretrained(\"bert-base-uncased\")\n",
        "model = AutoModel.from_pretrained(\"bert-base-uncased\")"
      ]
    },
    {
      "cell_type": "code",
      "execution_count": 6,
      "metadata": {
        "id": "bJTjfRRfCvDr"
      },
      "outputs": [],
      "source": [
        "def compute_bertscore(candidates, references, model, tokenizer, lang='fa'):\n",
        "    candidate_tokens = [tokenizer.encode(text, return_tensors='pt', max_length=512, truncation=True) for text in candidates]\n",
        "    reference_tokens = [tokenizer.encode(text, return_tensors='pt', max_length=512, truncation=True) for text in references]\n",
        "\n",
        "    candidate_embeddings = [model(tokens)[0].squeeze(0) for tokens in candidate_tokens]\n",
        "    reference_embeddings = [model(tokens)[0].squeeze(0) for tokens in reference_tokens]\n",
        "\n",
        "    P, R, F1 = bert_score.score(candidates, references, model_type=\"HooshvareLab/bert-fa-base-uncased\", lang='fa', rescale_with_baseline=False)\n",
        "\n",
        "    return P, R, F1"
      ]
    },
    {
      "cell_type": "code",
      "execution_count": 7,
      "metadata": {
        "id": "Svr_99N9Dn9a"
      },
      "outputs": [],
      "source": [
        "def get_embeddings(texts, tokenizer, model):\n",
        "    inputs = tokenizer(texts, return_tensors='pt', padding=True, truncation=True, max_length=512)\n",
        "    with torch.no_grad():\n",
        "        outputs = model(**inputs)\n",
        "    embeddings = outputs.last_hidden_state\n",
        "    attention_mask = inputs.attention_mask\n",
        "    return embeddings, attention_mask"
      ]
    },
    {
      "cell_type": "code",
      "execution_count": 8,
      "metadata": {
        "id": "as0sjueIEECk"
      },
      "outputs": [],
      "source": [
        "def compute_bert_score(candidate_embeddings, reference_embeddings, candidate_mask, reference_mask):\n",
        "    candidate_embeddings = candidate_embeddings.cpu().numpy()\n",
        "    reference_embeddings = reference_embeddings.cpu().numpy()\n",
        "\n",
        "    candidate_mask = candidate_mask.cpu().numpy()\n",
        "    reference_mask = reference_mask.cpu().numpy()\n",
        "\n",
        "    similarities = cosine_similarity(candidate_embeddings.reshape(-1, candidate_embeddings.shape[-1]),\n",
        "                                     reference_embeddings.reshape(-1, reference_embeddings.shape[-1]))\n",
        "\n",
        "    similarities = similarities.reshape(candidate_embeddings.shape[1], reference_embeddings.shape[1])\n",
        "\n",
        "    candidate_mask = candidate_mask[0]\n",
        "    reference_mask = reference_mask[0]\n",
        "\n",
        "    precision_scores = []\n",
        "    recall_scores = []\n",
        "\n",
        "    for i in range(candidate_embeddings.shape[1]):\n",
        "        if candidate_mask[i] == 0:\n",
        "            continue\n",
        "        candidate_sim = similarities[i, :reference_mask.sum()]\n",
        "        precision = candidate_sim.max()\n",
        "        precision_scores.append(precision)\n",
        "\n",
        "    for j in range(reference_embeddings.shape[1]):\n",
        "        if reference_mask[j] == 0:\n",
        "            continue\n",
        "        reference_sim = similarities[:candidate_mask.sum(), j]\n",
        "        recall = reference_sim.max()\n",
        "        recall_scores.append(recall)\n",
        "\n",
        "    precision = np.mean(precision_scores)\n",
        "    recall = np.mean(recall_scores)\n",
        "    f1 = 2 * precision * recall / (precision + recall)\n",
        "\n",
        "    return precision, recall, f1"
      ]
    },
    {
      "cell_type": "code",
      "execution_count": 9,
      "metadata": {
        "id": "WUwVX6l4C64I"
      },
      "outputs": [],
      "source": [
        "references = [\"I am a student in Sharif university.\"]\n",
        "candidates = [\"I am a professor in Teharan university.\"]"
      ]
    },
    {
      "cell_type": "code",
      "execution_count": 10,
      "metadata": {
        "id": "Nm7DD7jXDrV5"
      },
      "outputs": [],
      "source": [
        "candidate_embeddings, candidate_mask = get_embeddings(candidates, tokenizer, model)\n",
        "reference_embeddings, reference_mask = get_embeddings(references, tokenizer, model)"
      ]
    },
    {
      "cell_type": "code",
      "execution_count": 11,
      "metadata": {
        "id": "HAbPdAb1C1vG"
      },
      "outputs": [],
      "source": [
        "# P, R, F1 = bert_score.score(\n",
        "#     cands=candidates,\n",
        "#     refs=references,\n",
        "#     model_type=None,\n",
        "#     num_layers=None,\n",
        "#     verbose=True,\n",
        "#     idf=False,\n",
        "#     device='cuda' if torch.cuda.is_available() else 'cpu',\n",
        "#     batch_size=64,\n",
        "#     lang=None,\n",
        "#     return_hash=False,\n",
        "#     rescale_with_baseline=False,\n",
        "#     baseline_path=None,\n",
        "#     use_fast_tokenizer=True,\n",
        "#     custom_model=model,\n",
        "#     custom_tokenizer=tokenizer\n",
        "# )"
      ]
    },
    {
      "cell_type": "code",
      "execution_count": 12,
      "metadata": {
        "id": "SQSC-Uy5EMyL"
      },
      "outputs": [],
      "source": [
        "precision, recall, f1 = compute_bert_score(candidate_embeddings, reference_embeddings, candidate_mask, reference_mask)"
      ]
    },
    {
      "cell_type": "code",
      "execution_count": 13,
      "metadata": {
        "colab": {
          "base_uri": "https://localhost:8080/"
        },
        "id": "cvz_1YnpC3NO",
        "outputId": "a91825ce-36f4-4634-b326-aeaddbc41ec0"
      },
      "outputs": [
        {
          "output_type": "stream",
          "name": "stdout",
          "text": [
            "Precision: 0.7919\n",
            "Recall: 0.8684\n",
            "F1 Score: 0.8284\n"
          ]
        }
      ],
      "source": [
        "print(f\"Precision: {precision:.4f}\")\n",
        "print(f\"Recall: {recall:.4f}\")\n",
        "print(f\"F1 Score: {f1:.4f}\")"
      ]
    },
    {
      "cell_type": "markdown",
      "metadata": {
        "id": "shVCNvkAMH44"
      },
      "source": [
        "##Prepare Datasets"
      ]
    },
    {
      "cell_type": "code",
      "execution_count": 14,
      "metadata": {
        "id": "c8imMM8FMMQ4"
      },
      "outputs": [],
      "source": [
        "import jovian"
      ]
    },
    {
      "cell_type": "markdown",
      "metadata": {
        "id": "CKXBc2ptAA-q"
      },
      "source": [
        "Please download the token of your kaggle account which is a file named kaggle.json and upload it to the colab's root. Then run the cell below."
      ]
    },
    {
      "cell_type": "code",
      "execution_count": null,
      "metadata": {
        "id": "df7cMhKrMPiN"
      },
      "outputs": [],
      "source": [
        "!mkdir ~/.kaggle\n",
        "!cp kaggle.json ~/.kaggle/\n",
        "!chmod 600 ~/.kaggle/kaggle.json\n",
        "\n",
        "!kaggle datasets download mahbodissaiy/pubmed-publication-type"
      ]
    },
    {
      "cell_type": "code",
      "execution_count": null,
      "metadata": {
        "id": "7eK3JZmVS5mP"
      },
      "outputs": [],
      "source": [
        "from zipfile import ZipFile\n",
        "\n",
        "file = \"pubmed-publication-type.zip\"\n",
        "with ZipFile(file, 'r') as zip:\n",
        "    zip.printdir()\n",
        "    print('extraction...')\n",
        "    zip.extractall()\n",
        "    print('Done!')"
      ]
    },
    {
      "cell_type": "code",
      "execution_count": 17,
      "metadata": {
        "colab": {
          "base_uri": "https://localhost:8080/"
        },
        "id": "99918VB3UYoy",
        "outputId": "fb217e49-3a39-4b08-b6f6-309b63c030d0"
      },
      "outputs": [
        {
          "output_type": "stream",
          "name": "stdout",
          "text": [
            "   pubmed_id                                              title  \\\n",
            "0   37994819  Survival and mechanical complications of singl...   \n",
            "\n",
            "                                            abstract          type  label  \\\n",
            "0  PURPOSE: To evaluate the survival of and incid...  case-control      0   \n",
            "\n",
            "                                                text  \n",
            "0  Title:\\nSurvival and mechanical complications ...  \n"
          ]
        }
      ],
      "source": [
        "import pandas as pd\n",
        "\n",
        "df = pd.read_csv('dataset_cleaned.csv')\n",
        "first_row = df.head(1)\n",
        "print(first_row)"
      ]
    },
    {
      "cell_type": "code",
      "execution_count": 18,
      "metadata": {
        "colab": {
          "base_uri": "https://localhost:8080/"
        },
        "id": "vBcTvuSmTZd4",
        "outputId": "1073301b-190d-4c4b-c0c0-24b7c363c880"
      },
      "outputs": [
        {
          "output_type": "stream",
          "name": "stdout",
          "text": [
            "New CSV file 'pmid_abstracts.csv' created successfully!\n"
          ]
        }
      ],
      "source": [
        "import pandas as pd\n",
        "\n",
        "original_df = pd.read_csv('dataset_cleaned.csv')\n",
        "new_df = original_df[['pubmed_id', 'abstract']]\n",
        "\n",
        "new_df.to_csv('pmid_abstracts.csv', index=False)\n",
        "print(\"New CSV file 'pmid_abstracts.csv' created successfully!\")"
      ]
    },
    {
      "cell_type": "markdown",
      "metadata": {
        "id": "NC5UtXvyUpGW"
      },
      "source": [
        "QA dataset"
      ]
    },
    {
      "cell_type": "markdown",
      "metadata": {
        "id": "XpBu-dFlxFYN"
      },
      "source": [
        "we chose PubMedQA dataset from this link for the QA part: https://huggingface.co/datasets/qiaojin/PubMedQA"
      ]
    },
    {
      "cell_type": "code",
      "execution_count": null,
      "metadata": {
        "id": "BEW3JNtcUr6P"
      },
      "outputs": [],
      "source": [
        "from datasets import load_dataset\n",
        "\n",
        "ds = load_dataset(\"qiaojin/PubMedQA\", \"pqa_artificial\")"
      ]
    },
    {
      "cell_type": "code",
      "execution_count": 20,
      "metadata": {
        "id": "GMVZSMyCwikt"
      },
      "outputs": [],
      "source": [
        "# df = pd.read_csv('dataset_cleaned.csv')\n",
        "# from datasets import Dataset, DatasetDict\n",
        "\n",
        "# # Create a Dataset from the DataFrame\n",
        "# dataset = Dataset.from_pandas(df)"
      ]
    },
    {
      "cell_type": "code",
      "execution_count": 21,
      "metadata": {
        "colab": {
          "base_uri": "https://localhost:8080/"
        },
        "id": "JGFVWdk4aESm",
        "outputId": "2c22d0ff-3a84-4f5c-f5fa-1def131b50d3"
      },
      "outputs": [
        {
          "output_type": "stream",
          "name": "stdout",
          "text": [
            "Columns in train split:\n",
            "['pubid', 'question', 'context', 'long_answer', 'final_decision']\n"
          ]
        }
      ],
      "source": [
        "#see all the column titles of the dataset\n",
        "for split in ds.keys():\n",
        "    print(f\"Columns in {split} split:\")\n",
        "    print(ds[split].column_names)"
      ]
    },
    {
      "cell_type": "markdown",
      "metadata": {
        "id": "nhnm3wAT3qyr"
      },
      "source": [
        "we would like to remove the 'pubid' column for the dataset that we work on, cause it's not going to be of any use for our purpose. and keep the other columns. and also rename the 'long_answer' column to just 'answer' column"
      ]
    },
    {
      "cell_type": "code",
      "execution_count": 22,
      "metadata": {
        "colab": {
          "base_uri": "https://localhost:8080/"
        },
        "id": "OoGdg1Qi372H",
        "outputId": "e4ecee0b-9d0d-4bf0-e3aa-8d384f776b45"
      },
      "outputs": [
        {
          "output_type": "stream",
          "name": "stdout",
          "text": [
            "Columns in train split:\n",
            "['question', 'context', 'answer', 'final_decision']\n",
            "{'question': 'Are group 2 innate lymphoid cells ( ILC2s ) increased in chronic rhinosinusitis with nasal polyps or eosinophilia?', 'context': {'contexts': ['Chronic rhinosinusitis (CRS) is a heterogeneous disease with an uncertain pathogenesis. Group 2 innate lymphoid cells (ILC2s) represent a recently discovered cell population which has been implicated in driving Th2 inflammation in CRS; however, their relationship with clinical disease characteristics has yet to be investigated.', 'The aim of this study was to identify ILC2s in sinus mucosa in patients with CRS and controls and compare ILC2s across characteristics of disease.', 'A cross-sectional study of patients with CRS undergoing endoscopic sinus surgery was conducted. Sinus mucosal biopsies were obtained during surgery and control tissue from patients undergoing pituitary tumour resection through transphenoidal approach. ILC2s were identified as CD45(+) Lin(-) CD127(+) CD4(-) CD8(-) CRTH2(CD294)(+) CD161(+) cells in single cell suspensions through flow cytometry. ILC2 frequencies, measured as a percentage of CD45(+) cells, were compared across CRS phenotype, endotype, inflammatory CRS subtype and other disease characteristics including blood eosinophils, serum IgE, asthma status and nasal symptom score.', '35 patients (40% female, age 48 ± 17 years) including 13 with eosinophilic CRS (eCRS), 13 with non-eCRS and 9 controls were recruited. ILC2 frequencies were associated with the presence of nasal polyps (P = 0.002) as well as high tissue eosinophilia (P = 0.004) and eosinophil-dominant CRS (P = 0.001) (Mann-Whitney U). They were also associated with increased blood eosinophilia (P = 0.005). There were no significant associations found between ILC2s and serum total IgE and allergic disease. In the CRS with nasal polyps (CRSwNP) population, ILC2s were increased in patients with co-existing asthma (P = 0.03). ILC2s were also correlated with worsening nasal symptom score in CRS (P = 0.04).'], 'labels': ['BACKGROUND', 'OBJECTIVE', 'METHODS', 'RESULTS'], 'meshes': ['Adult', 'Aged', 'Antigens, Surface', 'Case-Control Studies', 'Chronic Disease', 'Eosinophilia', 'Female', 'Humans', 'Hypersensitivity', 'Immunity, Innate', 'Immunoglobulin E', 'Immunophenotyping', 'Leukocyte Count', 'Lymphocyte Subsets', 'Male', 'Middle Aged', 'Nasal Mucosa', 'Nasal Polyps', 'Neutrophil Infiltration', 'Patient Outcome Assessment', 'Rhinitis', 'Sinusitis', 'Young Adult']}, 'answer': 'As ILC2s are elevated in patients with CRSwNP, they may drive nasal polyp formation in CRS. ILC2s are also linked with high tissue and blood eosinophilia and have a potential role in the activation and survival of eosinophils during the Th2 immune response. The association of innate lymphoid cells in CRS provides insights into its pathogenesis.', 'final_decision': 'yes'}\n"
          ]
        }
      ],
      "source": [
        "ds = ds.remove_columns(\"pubid\")\n",
        "ds = ds.rename_column(\"long_answer\", \"answer\")\n",
        "\n",
        "for split in ds.keys():\n",
        "    print(f\"Columns in {split} split:\")\n",
        "    print(ds[split].column_names)\n",
        "    print(ds[split][0])"
      ]
    },
    {
      "cell_type": "code",
      "execution_count": 23,
      "metadata": {
        "colab": {
          "base_uri": "https://localhost:8080/"
        },
        "id": "LWZ9hnnU7G_h",
        "outputId": "f2bbddca-22ba-4854-9a26-2fc712f33e05"
      },
      "outputs": [
        {
          "output_type": "stream",
          "name": "stdout",
          "text": [
            "Are group 2 innate lymphoid cells ( ILC2s ) increased in chronic rhinosinusitis with nasal polyps or eosinophilia?\n",
            "As ILC2s are elevated in patients with CRSwNP, they may drive nasal polyp formation in CRS. ILC2s are also linked with high tissue and blood eosinophilia and have a potential role in the activation and survival of eosinophils during the Th2 immune response. The association of innate lymphoid cells in CRS provides insights into its pathogenesis.\n",
            "dict_keys(['train'])\n"
          ]
        }
      ],
      "source": [
        "print(ds['train'][0]['question'])\n",
        "print(ds['train'][0]['answer'])\n",
        "print(ds.keys())\n",
        "\n",
        "ds = ds['train']"
      ]
    },
    {
      "cell_type": "code",
      "execution_count": 24,
      "metadata": {
        "colab": {
          "base_uri": "https://localhost:8080/"
        },
        "id": "shp0vFU09Yix",
        "outputId": "b795cee4-2373-4133-ac05-d5c96d6cd0c3"
      },
      "outputs": [
        {
          "output_type": "stream",
          "name": "stdout",
          "text": [
            "{'question': 'Are group 2 innate lymphoid cells ( ILC2s ) increased in chronic rhinosinusitis with nasal polyps or eosinophilia?', 'context': {'contexts': ['Chronic rhinosinusitis (CRS) is a heterogeneous disease with an uncertain pathogenesis. Group 2 innate lymphoid cells (ILC2s) represent a recently discovered cell population which has been implicated in driving Th2 inflammation in CRS; however, their relationship with clinical disease characteristics has yet to be investigated.', 'The aim of this study was to identify ILC2s in sinus mucosa in patients with CRS and controls and compare ILC2s across characteristics of disease.', 'A cross-sectional study of patients with CRS undergoing endoscopic sinus surgery was conducted. Sinus mucosal biopsies were obtained during surgery and control tissue from patients undergoing pituitary tumour resection through transphenoidal approach. ILC2s were identified as CD45(+) Lin(-) CD127(+) CD4(-) CD8(-) CRTH2(CD294)(+) CD161(+) cells in single cell suspensions through flow cytometry. ILC2 frequencies, measured as a percentage of CD45(+) cells, were compared across CRS phenotype, endotype, inflammatory CRS subtype and other disease characteristics including blood eosinophils, serum IgE, asthma status and nasal symptom score.', '35 patients (40% female, age 48 ± 17 years) including 13 with eosinophilic CRS (eCRS), 13 with non-eCRS and 9 controls were recruited. ILC2 frequencies were associated with the presence of nasal polyps (P = 0.002) as well as high tissue eosinophilia (P = 0.004) and eosinophil-dominant CRS (P = 0.001) (Mann-Whitney U). They were also associated with increased blood eosinophilia (P = 0.005). There were no significant associations found between ILC2s and serum total IgE and allergic disease. In the CRS with nasal polyps (CRSwNP) population, ILC2s were increased in patients with co-existing asthma (P = 0.03). ILC2s were also correlated with worsening nasal symptom score in CRS (P = 0.04).'], 'labels': ['BACKGROUND', 'OBJECTIVE', 'METHODS', 'RESULTS'], 'meshes': ['Adult', 'Aged', 'Antigens, Surface', 'Case-Control Studies', 'Chronic Disease', 'Eosinophilia', 'Female', 'Humans', 'Hypersensitivity', 'Immunity, Innate', 'Immunoglobulin E', 'Immunophenotyping', 'Leukocyte Count', 'Lymphocyte Subsets', 'Male', 'Middle Aged', 'Nasal Mucosa', 'Nasal Polyps', 'Neutrophil Infiltration', 'Patient Outcome Assessment', 'Rhinitis', 'Sinusitis', 'Young Adult']}, 'answer': 'As ILC2s are elevated in patients with CRSwNP, they may drive nasal polyp formation in CRS. ILC2s are also linked with high tissue and blood eosinophilia and have a potential role in the activation and survival of eosinophils during the Th2 immune response. The association of innate lymphoid cells in CRS provides insights into its pathogenesis.', 'final_decision': 'yes'}\n",
            "Are group 2 innate lymphoid cells ( ILC2s ) increased in chronic rhinosinusitis with nasal polyps or eosinophilia?\n"
          ]
        }
      ],
      "source": [
        "print(ds[0])\n",
        "print(ds[0]['question'])"
      ]
    },
    {
      "cell_type": "markdown",
      "metadata": {
        "id": "eDu69LWn-NWe"
      },
      "source": [
        "so we got rid of the extra notation of ['train'] and dataset is accessible using ds variable right now."
      ]
    },
    {
      "cell_type": "markdown",
      "metadata": {
        "id": "nHiOPlVH-1IJ"
      },
      "source": [
        "Later on based on the split you prefer, you can split it into 3 datasets like ds_train, ds_val and ds_test"
      ]
    },
    {
      "cell_type": "markdown",
      "metadata": {
        "id": "Uff-oEg5_zoj"
      },
      "source": [
        "##Retrieval Model with TF-IDF"
      ]
    },
    {
      "cell_type": "code",
      "execution_count": 25,
      "metadata": {
        "id": "3IEVHlSwlkAq"
      },
      "outputs": [],
      "source": [
        "import re\n",
        "import nltk\n",
        "import numpy as np\n",
        "import pandas as pd\n",
        "\n",
        "from tqdm import tqdm\n",
        "from sklearn.feature_extraction.text import TfidfVectorizer\n",
        "from sklearn.metrics.pairwise import cosine_similarity\n",
        "from nltk.corpus import stopwords"
      ]
    },
    {
      "cell_type": "code",
      "execution_count": null,
      "metadata": {
        "id": "XxlLcBTQycCA"
      },
      "outputs": [],
      "source": [
        "nltk.download('stopwords')"
      ]
    },
    {
      "cell_type": "code",
      "source": [
        "all_abstracts = new_df[\"abstract\"].tolist()"
      ],
      "metadata": {
        "id": "p0NnAZxQf4W5"
      },
      "execution_count": 27,
      "outputs": []
    },
    {
      "cell_type": "code",
      "execution_count": 28,
      "metadata": {
        "id": "baPGUo0d_5Io"
      },
      "outputs": [],
      "source": [
        "contexts = all_abstracts\n",
        "questions = [item[\"question\"] for item in ds]\n",
        "answers = [item[\"answer\"] for item in ds]"
      ]
    },
    {
      "cell_type": "code",
      "execution_count": 29,
      "metadata": {
        "id": "jvz0nwFXlZ6y"
      },
      "outputs": [],
      "source": [
        "def preprocess(text):\n",
        "    text = text.lower()\n",
        "    text = re.sub(r'[^\\w\\s]', '', text)\n",
        "    text = re.sub(r'\\d+', '', text)\n",
        "    tokens = nltk.word_tokenize(text)\n",
        "\n",
        "    stop_words = set(stopwords.words('english'))\n",
        "    tokens = [word for word in tokens if word not in stop_words]\n",
        "    return ' '.join(tokens)"
      ]
    },
    {
      "cell_type": "code",
      "execution_count": 30,
      "metadata": {
        "id": "YJvg-kEhzPUN",
        "colab": {
          "base_uri": "https://localhost:8080/"
        },
        "outputId": "f6a2d70f-7eda-4446-a8b7-fce73124610f"
      },
      "outputs": [
        {
          "output_type": "stream",
          "name": "stderr",
          "text": [
            "Processing contexts: 100%|██████████| 100093/100093 [02:06<00:00, 791.72it/s]\n"
          ]
        }
      ],
      "source": [
        "contexts_preprocessed = []\n",
        "for context in tqdm(contexts, desc=\"Processing contexts\"):\n",
        "    contexts_preprocessed.append(preprocess(context))"
      ]
    },
    {
      "cell_type": "code",
      "execution_count": 31,
      "metadata": {
        "id": "O8vdYST0zRnO"
      },
      "outputs": [],
      "source": [
        "# questions_preprocessed = []\n",
        "# for question in tqdm(questions, desc=\"Processing questions\"):\n",
        "#     questions_preprocessed.append(preprocess(question))"
      ]
    },
    {
      "cell_type": "code",
      "execution_count": 32,
      "metadata": {
        "id": "hPw8GG9el295",
        "colab": {
          "base_uri": "https://localhost:8080/"
        },
        "outputId": "af019888-8854-4d1e-bd5f-42ef1e367f1c"
      },
      "outputs": [
        {
          "output_type": "stream",
          "name": "stderr",
          "text": [
            "Vectorizing...: 100%|██████████| 100093/100093 [00:09<00:00, 10432.57it/s]\n"
          ]
        }
      ],
      "source": [
        "vectorizer = TfidfVectorizer()\n",
        "X_contexts = vectorizer.fit_transform(tqdm(contexts_preprocessed, desc=\"Vectorizing...\"))"
      ]
    },
    {
      "cell_type": "code",
      "execution_count": 33,
      "metadata": {
        "id": "oxUeIQvkl4vr"
      },
      "outputs": [],
      "source": [
        "def retrieve_relevant_texts(question, top_n=5):\n",
        "    question_preprocessed = preprocess(question)\n",
        "    question_vector = vectorizer.transform([question_preprocessed])\n",
        "    similarity_scores = cosine_similarity(question_vector, X_contexts).flatten()\n",
        "    relevant_indices = similarity_scores.argsort()[-top_n:][::-1]\n",
        "    relevant_texts = [contexts[i] for i in relevant_indices]\n",
        "    return relevant_texts"
      ]
    },
    {
      "cell_type": "code",
      "execution_count": 34,
      "metadata": {
        "colab": {
          "base_uri": "https://localhost:8080/"
        },
        "id": "RTMBMJX0l6aU",
        "outputId": "2bb97d45-eab2-4a43-ee25-8f3812c0c9c0"
      },
      "outputs": [
        {
          "output_type": "stream",
          "name": "stdout",
          "text": [
            "Relevant Text 1:\n",
            "Atopic dermatitis (AD) is a common allergic inflammatory skin condition mainly caused by gene variants, immune disorders, and environmental risk factors. The T helper (Th) 2 immune response mediated by interleukin (IL)-4/13 is generally believed to be central in the pathogenesis of AD. It has been shown that innate lymphoid cells (ILCs) play a major effector cell role in the immune response in tissue homeostasis and inflammation and fascinating details about the interaction between innate and adaptive immunity. Changes in ILCs may contribute to the onset and progression of AD, and ILC2s especially have gained much attention. However, the role of ILCs in AD still needs to be further elucidated. This review summarizes the role of ILCs in skin homeostasis and highlights the signaling pathways in which ILCs may be involved in AD, thus providing valuable insights into the behavior of ILCs in skin homeostasis and inflammation, as well as new approaches to treating AD.\n",
            "\n",
            "Relevant Text 2:\n",
            "RORγt(+) group 3 innate lymphoid cells (ILC3s), the innate counterpart of Th17 cells, are enriched in the mucosal area and lymphoid tissues. ILC3s interact with a variety of cells through their effector molecules and play an important role in the host defense against a spectrum of infections. Recent studies suggest that the extensive crosstalk between ILC3s and adaptive immune cells, especially T cells, is essential for maintaining tissue homeostasis. Here we discuss recent advances in the crosstalk between ILC3s and adaptive immune responses in multiple tissues and diseases. Understanding how ILC3s engage with adaptive immune cells will enhance our comprehension of diseases and facilitate the identification of novel therapeutic targets.\n",
            "\n",
            "Relevant Text 3:\n",
            "OBJECTIVES: The French Society of ORL set up a work group to draw up a consensus document on the prescription of nebulization in rhinology. The document deals with the principles of and indications for rhinologic aerosol therapy. MATERIALS AND METHODS: The work group’s methodology followed the rules published by the French health authority (Haute Autorité de santé [HAS]) in January 2006: \"Methodological foundations for drawing up professional guidelines by formalized consensus\" (available on the HAS website athttp://www.has-sante.fr). The method used is the short version (without editorial group) of the RAND/UCLA Appropriateness Method; the short version was chosen because this particular consensus conference was dealing with a very precise topic with very few experts in the field. RESULTS: Sonic aerosol therapy with nasal plug is the preferred modality, delivering treatment into the middle meati. The group recommends that drugs with market authorization for use in bronchopulmonary pathology should be nebulized in two 10-minute sessions per day for at least seven days. Indications for rhinologic aerosol therapy are: purulent edematous rhinosinusitis, subacute rhinosinusitis (4–12 weeks’ evolution), exacerbations of chronic rhinosinusitis, and postoperative (>1 month) rhinosinus suppuration.Audiometric monitoring is required in iterative aminoside nebulization.Conclusion: Rhinologic aerosol therapy can be used in purulent edematous rhinosinusitis, subacute rhi-nosinusitis, exacerbations of chronic rhinosinusitis and postoperative rhinosinus suppuration. The rules for prescription contained in the present document optimize efficacy.\n",
            "\n",
            "Relevant Text 4:\n",
            "Innate lymphoid cells type 3 (ILC3s) are the first line sentinels at the mucous tissues, where they contribute to the homeostatic immune response in a major way. Also, they have been increasingly appreciated as important modulators of chronic inflammatory and autoimmune responses, both locally and systemically. The proper identification of ILC3 is of utmost importance for meaningful studies on their role in immunity. Flow cytometry is the method of choice for the detection and characterization of ILC3. However, the analysis of ILC3-related papers shows inconsistency in ILC3 phenotypic definition, as different inclusion and exclusion markers are used for their identification. Here, we present these discrepancies in the phenotypic characterization of human and mouse ILC3s. We discuss the pros and cons of using various markers for ILC3 identification. Furthermore, we consider the possibilities for the efficient isolation and propagation of ILC3 from different organs and tissues for in-vitro and in-vivo studies. This paper calls upon uniformity in ILC3 definition, isolation, and propagation for the increased possibility of confluent interpretation of ILC3's role in immunity.\n",
            "\n",
            "Relevant Text 5:\n",
            "Innate lymphoid cells type 3 (ILC3s) are the first line sentinels at the mucous tissues, where they contribute to the homeostatic immune response in a major way. Also, they have been increasingly appreciated as important modulators of chronic inflammatory and autoimmune responses, both locally and systemically. The proper identification of ILC3 is of utmost importance for meaningful studies on their role in immunity. Flow cytometry is the method of choice for the detection and characterization of ILC3. However, the analysis of ILC3-related papers shows inconsistency in ILC3 phenotypic definition, as different inclusion and exclusion markers are used for their identification. Here, we present these discrepancies in the phenotypic characterization of human and mouse ILC3s. We discuss the pros and cons of using various markers for ILC3 identification. Furthermore, we consider the possibilities for the efficient isolation and propagation of ILC3 from different organs and tissues for in-vitro and in-vivo studies. This paper calls upon uniformity in ILC3 definition, isolation, and propagation for the increased possibility of confluent interpretation of ILC3's role in immunity.\n",
            "\n"
          ]
        }
      ],
      "source": [
        "question = \"What is the role of ILC2s in chronic rhinosinusitis?\"\n",
        "relevant_texts = retrieve_relevant_texts(question)\n",
        "for idx, text in enumerate(relevant_texts):\n",
        "    print(f\"Relevant Text {idx + 1}:\\n{text}\\n\")"
      ]
    },
    {
      "cell_type": "markdown",
      "metadata": {
        "id": "i0XVkQ23mLqI"
      },
      "source": [
        "## Retrieval Model with BERT"
      ]
    },
    {
      "cell_type": "code",
      "execution_count": null,
      "metadata": {
        "id": "1iQYpADYmZ7X"
      },
      "outputs": [],
      "source": [
        "import torch\n",
        "from transformers import BertTokenizer, BertModel\n",
        "from sklearn.metrics.pairwise import cosine_similarity"
      ]
    },
    {
      "cell_type": "code",
      "execution_count": null,
      "metadata": {
        "id": "OmKR2FfAmPwu"
      },
      "outputs": [],
      "source": [
        "tokenizer = BertTokenizer.from_pretrained('bert-base-uncased')\n",
        "model = BertModel.from_pretrained('bert-base-uncased')"
      ]
    },
    {
      "cell_type": "code",
      "execution_count": null,
      "metadata": {
        "id": "ih9VPESqmkCC"
      },
      "outputs": [],
      "source": [
        "def get_bert_embedding(text):\n",
        "    inputs = tokenizer(text, return_tensors='pt', truncation=True, padding=True, max_length=512)\n",
        "    with torch.no_grad():\n",
        "        outputs = model(**inputs)\n",
        "    return outputs.last_hidden_state.mean(dim=1).squeeze().numpy()"
      ]
    },
    {
      "cell_type": "code",
      "execution_count": null,
      "metadata": {
        "id": "FG6TpWXfmmGz"
      },
      "outputs": [],
      "source": [
        "context_embeddings = [get_bert_embedding(context) for context in tqdm(contexts, desc=\"Get embeddings of contexts...\", leave=True)]"
      ]
    },
    {
      "cell_type": "code",
      "execution_count": null,
      "metadata": {
        "id": "mgRZAccwmn1H"
      },
      "outputs": [],
      "source": [
        "def retrieve_relevant_texts(question, top_n=5):\n",
        "    question_embedding = get_bert_embedding(question)\n",
        "    similarity_scores = cosine_similarity([question_embedding], context_embeddings).flatten()\n",
        "    relevant_indices = similarity_scores.argsort()[-top_n:][::-1]\n",
        "    relevant_texts = [contexts[i] for i in relevant_indices]\n",
        "    return relevant_texts"
      ]
    },
    {
      "cell_type": "code",
      "execution_count": null,
      "metadata": {
        "id": "-yaKbhXfmpPn"
      },
      "outputs": [],
      "source": [
        "question = \"What is the role of ILC2s in chronic rhinosinusitis?\"\n",
        "relevant_texts = retrieve_relevant_texts(question)\n",
        "for idx, text in enumerate(relevant_texts):\n",
        "    print(f\"Relevant Text {idx + 1}:\\n{text}\\n\")"
      ]
    },
    {
      "cell_type": "markdown",
      "metadata": {
        "id": "Hu_TnVrAryLM"
      },
      "source": [
        "## Retrieval Model with USE"
      ]
    },
    {
      "cell_type": "code",
      "execution_count": null,
      "metadata": {
        "id": "_rv21gPEz1OE"
      },
      "outputs": [],
      "source": [
        "import numpy as np\n",
        "import tensorflow_hub as hub\n",
        "from sklearn.metrics.pairwise import cosine_similarity"
      ]
    },
    {
      "cell_type": "code",
      "execution_count": null,
      "metadata": {
        "id": "do0eOFu1r1RF"
      },
      "outputs": [],
      "source": [
        "use_model = hub.load(\"https://tfhub.dev/google/universal-sentence-encoder/4\")"
      ]
    },
    {
      "cell_type": "code",
      "execution_count": null,
      "metadata": {
        "id": "qpdMlaBV5K2E"
      },
      "outputs": [],
      "source": [
        "def get_use_embedding(texts, batch_size=128):\n",
        "    embeddings = []\n",
        "    num_batches = len(texts) // batch_size + int(len(texts) % batch_size != 0)\n",
        "    with tqdm(total=num_batches, desc=\"Get embeddings of contexts...\", leave=True) as pbar:\n",
        "        for i in range(0, len(texts), batch_size):\n",
        "            batch_texts = texts[i:i+batch_size]\n",
        "            batch_embeddings = use_model(batch_texts).numpy()\n",
        "            embeddings.append(batch_embeddings)\n",
        "            pbar.update(1)\n",
        "    return np.vstack(embeddings)"
      ]
    },
    {
      "cell_type": "code",
      "execution_count": null,
      "metadata": {
        "colab": {
          "background_save": true
        },
        "id": "mjfxULKG5MMK"
      },
      "outputs": [],
      "source": [
        "context_embeddings = get_use_embedding(contexts)"
      ]
    },
    {
      "cell_type": "code",
      "execution_count": null,
      "metadata": {
        "id": "TIPhWlnLz59V"
      },
      "outputs": [],
      "source": [
        "def retrieve_relevant_texts(question, top_n=5):\n",
        "    question_embedding = get_use_embedding([question])[0]\n",
        "    similarity_scores = cosine_similarity([question_embedding], context_embeddings).flatten()\n",
        "    relevant_indices = similarity_scores.argsort()[-top_n:][::-1]\n",
        "    relevant_texts = [contexts[i] for i in relevant_indices]\n",
        "    return relevant_texts"
      ]
    },
    {
      "cell_type": "code",
      "execution_count": null,
      "metadata": {
        "colab": {
          "base_uri": "https://localhost:8080/"
        },
        "id": "I3qt0m_2z8Ck",
        "outputId": "67867024-fa38-49c8-e09f-4275d798e687"
      },
      "outputs": [
        {
          "name": "stderr",
          "output_type": "stream",
          "text": [
            "\n",
            "\n",
            "Get embeddings of contexts...: 100%|██████████| 1/1 [00:00<00:00, 38.92it/s]\n"
          ]
        },
        {
          "name": "stdout",
          "output_type": "stream",
          "text": [
            "Relevant Text 1:\n",
            "What role do female sex hormones play in the antisperm immune response?\n",
            "\n",
            "Relevant Text 2:\n",
            "Chronic wounds cause significant morbidity and mortality and cost our health care system millions of dollars each year. A major impediment to wound healing is the formation of bacterial biofilms. Biofilms are communities of bacteria associated with chronic infections. This article reviews the literature on chronic wounds and biofilms. The role of biofilms in chronic wounds is not widely known. The purpose is to increase awareness of their role and to discuss research into novel therapeutic options. PubMed searches were performed to identify publications on chronic wounds and biofilms. Biofilms contribute to chronic wound nonhealing. There is an abundance of research into novel antibiofilm strategies for chronic wounds.\n",
            "\n",
            "Relevant Text 3:\n",
            "To review current knowledge of neurobiologic mechanisms that generate and maintain chronic pain and to explain how they might be applied in targeting treatment of chronic, inflammatory, and neuropathic pain syndromes. Published research, literature review articles, and abstracts as well as national statistics. Treatment for chronic pain associated with cancer and other syndromes remains suboptimal and falls significantly short of clinical needs. Data highlight the role that multiple neurobiologic mechanisms play in modulating and maintaining pain at various levels of the central and peripheral nervous systems. Novel agents have been developed that use a more targeted approach to treating chronic pain.\n",
            "\n",
            "Relevant Text 4:\n",
            "How does hypoxia-mediated down-regulation of dual specificity phosphatase-2 (DUSP2) promote endometriotic lesion development?\n",
            "\n",
            "Relevant Text 5:\n",
            "Do platelets play any role in the development of endometriosis?\n",
            "\n"
          ]
        }
      ],
      "source": [
        "question = \"What is the role of ILC2s in chronic rhinosinusitis?\"\n",
        "relevant_texts = retrieve_relevant_texts(question)\n",
        "for idx, text in enumerate(relevant_texts):\n",
        "    print(f\"Relevant Text {idx + 1}:\\n{text}\\n\")"
      ]
    },
    {
      "cell_type": "markdown",
      "source": [
        "# **Finetune T5**"
      ],
      "metadata": {
        "id": "V6bi82bCI_AG"
      }
    },
    {
      "cell_type": "code",
      "source": [
        "import torch\n",
        "import json\n",
        "import random\n",
        "from tqdm import tqdm\n",
        "from torch.optim import Adam\n",
        "import evaluate\n",
        "import requests\n",
        "from torch.utils.data import Dataset, DataLoader, RandomSampler\n",
        "import pandas as pd\n",
        "from sklearn.model_selection import train_test_split\n",
        "from transformers import T5ForConditionalGeneration, T5TokenizerFast\n",
        "\n",
        "import warnings\n",
        "warnings.filterwarnings(\"ignore\")"
      ],
      "metadata": {
        "id": "yQopda5EJBaf"
      },
      "execution_count": 35,
      "outputs": []
    },
    {
      "cell_type": "code",
      "source": [
        "TOKENIZER = T5TokenizerFast.from_pretrained(\"t5-small\")\n",
        "MODEL = T5ForConditionalGeneration.from_pretrained(\"t5-small\", return_dict=True)\n",
        "OPTIMIZER = Adam(MODEL.parameters(), lr=0.00001)\n",
        "Q_LEN = 256\n",
        "T_LEN = 32\n",
        "BATCH_SIZE = 4\n",
        "DEVICE = \"cuda:0\" if torch.cuda.is_available() else \"cpu\"\n",
        "MODEL.to(DEVICE)"
      ],
      "metadata": {
        "id": "J_8K4EIwJMRo"
      },
      "execution_count": null,
      "outputs": []
    },
    {
      "cell_type": "code",
      "source": [
        "number_of_questions_to_finetune_with = 5000\n",
        "number_of_epochs_to_finetune = 5"
      ],
      "metadata": {
        "id": "-9H7xeiUJVUB"
      },
      "execution_count": 37,
      "outputs": []
    },
    {
      "cell_type": "code",
      "source": [
        "indices = random.sample(range(len(questions)), number_of_questions_to_finetune_with)\n",
        "\n",
        "finetune_questions = list()\n",
        "finetune_contexts = list()\n",
        "finetune_answers = list()\n",
        "\n",
        "for i in tqdm(indices):\n",
        "    finetune_questions.append(questions[i])\n",
        "    relevant_texts = retrieve_relevant_texts(questions[i], 1)\n",
        "    finetune_contexts.append(relevant_texts[0])\n",
        "    finetune_answers.append(answers[i])"
      ],
      "metadata": {
        "colab": {
          "base_uri": "https://localhost:8080/"
        },
        "id": "YN1XnbkDLhsv",
        "outputId": "1aef93e1-48a6-4e2c-8bc0-dded8eea7013"
      },
      "execution_count": 38,
      "outputs": [
        {
          "output_type": "stream",
          "name": "stderr",
          "text": [
            "100%|██████████| 5000/5000 [26:17<00:00,  3.17it/s]\n"
          ]
        }
      ]
    },
    {
      "cell_type": "code",
      "source": [
        "d = {'context': finetune_contexts, 'question':finetune_questions, 'answer':finetune_answers}\n",
        "data = pd.DataFrame(d)\n",
        "data.head()"
      ],
      "metadata": {
        "colab": {
          "base_uri": "https://localhost:8080/",
          "height": 206
        },
        "id": "-NYCY4jML6to",
        "outputId": "3dee8bc6-5574-4be8-8463-417ad3aaacb6"
      },
      "execution_count": 39,
      "outputs": [
        {
          "output_type": "execute_result",
          "data": {
            "text/plain": [
              "                                             context  \\\n",
              "0  Peripheral airways combine branched tubes for ...   \n",
              "1  Selected members of the Wnt signaling communit...   \n",
              "2  BACKGROUND: The number of global health (GH) p...   \n",
              "3  BACKGROUND Total hip replacement (THR) is a co...   \n",
              "4  Angiogenesis is acknowledged as a pivotal feat...   \n",
              "\n",
              "                                            question  \\\n",
              "0  Is jagged1 the major regulator of Notch-depend...   \n",
              "1  Is premature myocardial infarction associated ...   \n",
              "2  Does ten-year GH replacement increase bone min...   \n",
              "3  Does ceramic-on-ceramic bearing decrease the c...   \n",
              "4  Does iL-25 induce airways angiogenesis and exp...   \n",
              "\n",
              "                                              answer  \n",
              "0  Our results demonstrate that Jagged1-mediated ...  \n",
              "1  This study establishes an association between ...  \n",
              "2  Ten years of GH replacement in hypopituitary a...  \n",
              "3  AL/AL bearing couples decreased the cumulative...  \n",
              "4  The data suggest that chronic exposure of muri...  "
            ],
            "text/html": [
              "\n",
              "  <div id=\"df-b801b4a3-394b-45ac-a798-5dcea88c3dfe\" class=\"colab-df-container\">\n",
              "    <div>\n",
              "<style scoped>\n",
              "    .dataframe tbody tr th:only-of-type {\n",
              "        vertical-align: middle;\n",
              "    }\n",
              "\n",
              "    .dataframe tbody tr th {\n",
              "        vertical-align: top;\n",
              "    }\n",
              "\n",
              "    .dataframe thead th {\n",
              "        text-align: right;\n",
              "    }\n",
              "</style>\n",
              "<table border=\"1\" class=\"dataframe\">\n",
              "  <thead>\n",
              "    <tr style=\"text-align: right;\">\n",
              "      <th></th>\n",
              "      <th>context</th>\n",
              "      <th>question</th>\n",
              "      <th>answer</th>\n",
              "    </tr>\n",
              "  </thead>\n",
              "  <tbody>\n",
              "    <tr>\n",
              "      <th>0</th>\n",
              "      <td>Peripheral airways combine branched tubes for ...</td>\n",
              "      <td>Is jagged1 the major regulator of Notch-depend...</td>\n",
              "      <td>Our results demonstrate that Jagged1-mediated ...</td>\n",
              "    </tr>\n",
              "    <tr>\n",
              "      <th>1</th>\n",
              "      <td>Selected members of the Wnt signaling communit...</td>\n",
              "      <td>Is premature myocardial infarction associated ...</td>\n",
              "      <td>This study establishes an association between ...</td>\n",
              "    </tr>\n",
              "    <tr>\n",
              "      <th>2</th>\n",
              "      <td>BACKGROUND: The number of global health (GH) p...</td>\n",
              "      <td>Does ten-year GH replacement increase bone min...</td>\n",
              "      <td>Ten years of GH replacement in hypopituitary a...</td>\n",
              "    </tr>\n",
              "    <tr>\n",
              "      <th>3</th>\n",
              "      <td>BACKGROUND Total hip replacement (THR) is a co...</td>\n",
              "      <td>Does ceramic-on-ceramic bearing decrease the c...</td>\n",
              "      <td>AL/AL bearing couples decreased the cumulative...</td>\n",
              "    </tr>\n",
              "    <tr>\n",
              "      <th>4</th>\n",
              "      <td>Angiogenesis is acknowledged as a pivotal feat...</td>\n",
              "      <td>Does iL-25 induce airways angiogenesis and exp...</td>\n",
              "      <td>The data suggest that chronic exposure of muri...</td>\n",
              "    </tr>\n",
              "  </tbody>\n",
              "</table>\n",
              "</div>\n",
              "    <div class=\"colab-df-buttons\">\n",
              "\n",
              "  <div class=\"colab-df-container\">\n",
              "    <button class=\"colab-df-convert\" onclick=\"convertToInteractive('df-b801b4a3-394b-45ac-a798-5dcea88c3dfe')\"\n",
              "            title=\"Convert this dataframe to an interactive table.\"\n",
              "            style=\"display:none;\">\n",
              "\n",
              "  <svg xmlns=\"http://www.w3.org/2000/svg\" height=\"24px\" viewBox=\"0 -960 960 960\">\n",
              "    <path d=\"M120-120v-720h720v720H120Zm60-500h600v-160H180v160Zm220 220h160v-160H400v160Zm0 220h160v-160H400v160ZM180-400h160v-160H180v160Zm440 0h160v-160H620v160ZM180-180h160v-160H180v160Zm440 0h160v-160H620v160Z\"/>\n",
              "  </svg>\n",
              "    </button>\n",
              "\n",
              "  <style>\n",
              "    .colab-df-container {\n",
              "      display:flex;\n",
              "      gap: 12px;\n",
              "    }\n",
              "\n",
              "    .colab-df-convert {\n",
              "      background-color: #E8F0FE;\n",
              "      border: none;\n",
              "      border-radius: 50%;\n",
              "      cursor: pointer;\n",
              "      display: none;\n",
              "      fill: #1967D2;\n",
              "      height: 32px;\n",
              "      padding: 0 0 0 0;\n",
              "      width: 32px;\n",
              "    }\n",
              "\n",
              "    .colab-df-convert:hover {\n",
              "      background-color: #E2EBFA;\n",
              "      box-shadow: 0px 1px 2px rgba(60, 64, 67, 0.3), 0px 1px 3px 1px rgba(60, 64, 67, 0.15);\n",
              "      fill: #174EA6;\n",
              "    }\n",
              "\n",
              "    .colab-df-buttons div {\n",
              "      margin-bottom: 4px;\n",
              "    }\n",
              "\n",
              "    [theme=dark] .colab-df-convert {\n",
              "      background-color: #3B4455;\n",
              "      fill: #D2E3FC;\n",
              "    }\n",
              "\n",
              "    [theme=dark] .colab-df-convert:hover {\n",
              "      background-color: #434B5C;\n",
              "      box-shadow: 0px 1px 3px 1px rgba(0, 0, 0, 0.15);\n",
              "      filter: drop-shadow(0px 1px 2px rgba(0, 0, 0, 0.3));\n",
              "      fill: #FFFFFF;\n",
              "    }\n",
              "  </style>\n",
              "\n",
              "    <script>\n",
              "      const buttonEl =\n",
              "        document.querySelector('#df-b801b4a3-394b-45ac-a798-5dcea88c3dfe button.colab-df-convert');\n",
              "      buttonEl.style.display =\n",
              "        google.colab.kernel.accessAllowed ? 'block' : 'none';\n",
              "\n",
              "      async function convertToInteractive(key) {\n",
              "        const element = document.querySelector('#df-b801b4a3-394b-45ac-a798-5dcea88c3dfe');\n",
              "        const dataTable =\n",
              "          await google.colab.kernel.invokeFunction('convertToInteractive',\n",
              "                                                    [key], {});\n",
              "        if (!dataTable) return;\n",
              "\n",
              "        const docLinkHtml = 'Like what you see? Visit the ' +\n",
              "          '<a target=\"_blank\" href=https://colab.research.google.com/notebooks/data_table.ipynb>data table notebook</a>'\n",
              "          + ' to learn more about interactive tables.';\n",
              "        element.innerHTML = '';\n",
              "        dataTable['output_type'] = 'display_data';\n",
              "        await google.colab.output.renderOutput(dataTable, element);\n",
              "        const docLink = document.createElement('div');\n",
              "        docLink.innerHTML = docLinkHtml;\n",
              "        element.appendChild(docLink);\n",
              "      }\n",
              "    </script>\n",
              "  </div>\n",
              "\n",
              "\n",
              "<div id=\"df-b1090e63-302d-4fc3-a3a0-cb80dfcf5f77\">\n",
              "  <button class=\"colab-df-quickchart\" onclick=\"quickchart('df-b1090e63-302d-4fc3-a3a0-cb80dfcf5f77')\"\n",
              "            title=\"Suggest charts\"\n",
              "            style=\"display:none;\">\n",
              "\n",
              "<svg xmlns=\"http://www.w3.org/2000/svg\" height=\"24px\"viewBox=\"0 0 24 24\"\n",
              "     width=\"24px\">\n",
              "    <g>\n",
              "        <path d=\"M19 3H5c-1.1 0-2 .9-2 2v14c0 1.1.9 2 2 2h14c1.1 0 2-.9 2-2V5c0-1.1-.9-2-2-2zM9 17H7v-7h2v7zm4 0h-2V7h2v10zm4 0h-2v-4h2v4z\"/>\n",
              "    </g>\n",
              "</svg>\n",
              "  </button>\n",
              "\n",
              "<style>\n",
              "  .colab-df-quickchart {\n",
              "      --bg-color: #E8F0FE;\n",
              "      --fill-color: #1967D2;\n",
              "      --hover-bg-color: #E2EBFA;\n",
              "      --hover-fill-color: #174EA6;\n",
              "      --disabled-fill-color: #AAA;\n",
              "      --disabled-bg-color: #DDD;\n",
              "  }\n",
              "\n",
              "  [theme=dark] .colab-df-quickchart {\n",
              "      --bg-color: #3B4455;\n",
              "      --fill-color: #D2E3FC;\n",
              "      --hover-bg-color: #434B5C;\n",
              "      --hover-fill-color: #FFFFFF;\n",
              "      --disabled-bg-color: #3B4455;\n",
              "      --disabled-fill-color: #666;\n",
              "  }\n",
              "\n",
              "  .colab-df-quickchart {\n",
              "    background-color: var(--bg-color);\n",
              "    border: none;\n",
              "    border-radius: 50%;\n",
              "    cursor: pointer;\n",
              "    display: none;\n",
              "    fill: var(--fill-color);\n",
              "    height: 32px;\n",
              "    padding: 0;\n",
              "    width: 32px;\n",
              "  }\n",
              "\n",
              "  .colab-df-quickchart:hover {\n",
              "    background-color: var(--hover-bg-color);\n",
              "    box-shadow: 0 1px 2px rgba(60, 64, 67, 0.3), 0 1px 3px 1px rgba(60, 64, 67, 0.15);\n",
              "    fill: var(--button-hover-fill-color);\n",
              "  }\n",
              "\n",
              "  .colab-df-quickchart-complete:disabled,\n",
              "  .colab-df-quickchart-complete:disabled:hover {\n",
              "    background-color: var(--disabled-bg-color);\n",
              "    fill: var(--disabled-fill-color);\n",
              "    box-shadow: none;\n",
              "  }\n",
              "\n",
              "  .colab-df-spinner {\n",
              "    border: 2px solid var(--fill-color);\n",
              "    border-color: transparent;\n",
              "    border-bottom-color: var(--fill-color);\n",
              "    animation:\n",
              "      spin 1s steps(1) infinite;\n",
              "  }\n",
              "\n",
              "  @keyframes spin {\n",
              "    0% {\n",
              "      border-color: transparent;\n",
              "      border-bottom-color: var(--fill-color);\n",
              "      border-left-color: var(--fill-color);\n",
              "    }\n",
              "    20% {\n",
              "      border-color: transparent;\n",
              "      border-left-color: var(--fill-color);\n",
              "      border-top-color: var(--fill-color);\n",
              "    }\n",
              "    30% {\n",
              "      border-color: transparent;\n",
              "      border-left-color: var(--fill-color);\n",
              "      border-top-color: var(--fill-color);\n",
              "      border-right-color: var(--fill-color);\n",
              "    }\n",
              "    40% {\n",
              "      border-color: transparent;\n",
              "      border-right-color: var(--fill-color);\n",
              "      border-top-color: var(--fill-color);\n",
              "    }\n",
              "    60% {\n",
              "      border-color: transparent;\n",
              "      border-right-color: var(--fill-color);\n",
              "    }\n",
              "    80% {\n",
              "      border-color: transparent;\n",
              "      border-right-color: var(--fill-color);\n",
              "      border-bottom-color: var(--fill-color);\n",
              "    }\n",
              "    90% {\n",
              "      border-color: transparent;\n",
              "      border-bottom-color: var(--fill-color);\n",
              "    }\n",
              "  }\n",
              "</style>\n",
              "\n",
              "  <script>\n",
              "    async function quickchart(key) {\n",
              "      const quickchartButtonEl =\n",
              "        document.querySelector('#' + key + ' button');\n",
              "      quickchartButtonEl.disabled = true;  // To prevent multiple clicks.\n",
              "      quickchartButtonEl.classList.add('colab-df-spinner');\n",
              "      try {\n",
              "        const charts = await google.colab.kernel.invokeFunction(\n",
              "            'suggestCharts', [key], {});\n",
              "      } catch (error) {\n",
              "        console.error('Error during call to suggestCharts:', error);\n",
              "      }\n",
              "      quickchartButtonEl.classList.remove('colab-df-spinner');\n",
              "      quickchartButtonEl.classList.add('colab-df-quickchart-complete');\n",
              "    }\n",
              "    (() => {\n",
              "      let quickchartButtonEl =\n",
              "        document.querySelector('#df-b1090e63-302d-4fc3-a3a0-cb80dfcf5f77 button');\n",
              "      quickchartButtonEl.style.display =\n",
              "        google.colab.kernel.accessAllowed ? 'block' : 'none';\n",
              "    })();\n",
              "  </script>\n",
              "</div>\n",
              "    </div>\n",
              "  </div>\n"
            ],
            "application/vnd.google.colaboratory.intrinsic+json": {
              "type": "dataframe",
              "variable_name": "data",
              "summary": "{\n  \"name\": \"data\",\n  \"rows\": 5000,\n  \"fields\": [\n    {\n      \"column\": \"context\",\n      \"properties\": {\n        \"dtype\": \"string\",\n        \"num_unique_values\": 3426,\n        \"samples\": [\n          \"Metastatic involvement of the pituitary gland is a rare but clinically significant phenomenon, that often poses diagnostic and therapeutic challenges. The aim of this study was to provide a comprehensive analysis of the origin of pituitary metastases using data from the German Pituitary Tumor Registry, one of the globally largest collections of pituitary pathology specimens. Here, we report data from a retrospective analysis of patients with metastases to the pituitary registered between 1990 and 2022. Out of 17,896 pituitary cases in the registry during this period, a total of 96 metastases to the pituitary gland were identified, accounting for 0.5% of all pituitary tumors in the registry. The mean age of the patients was 64 years. Breast cancer was identified as the primary tumor in 25% of total cases (n\\u2009=\\u200924/96) and in 50% of female patients. The second most prevalent primary tumor was lung cancer (18.75%, n\\u2009=\\u200918/96), followed by renal cell carcinoma (14.58%, n\\u2009=\\u200914/96). In comparison to current meta-analyses, this cohort shows a higher prevalence of metastases originating from the kidney. Furthermore, in contrast to the existing literature, no case of primary thyroid tumor was identified. Our study highlights the importance of pituitary metastases as a differential diagnosis in patients presenting with pituitary tumors.\",\n          \"BACKGROUND: Globally, traumatic brain injury is the leading cause of death and disability which affects more than 69 million individuals a year. OBJECTIVE: This study aimed to assess the outcome and associated factors of traumatic brain injury among adult patients treated in Amhara regional state comprehensive specialized hospitals. METHOD: Institutional-based cross-sectional study design was conducted from January 1, 2018, to December 30, 2020. A simple random sampling technique was used and a checklist was used to extract data between March 15 and April 15, 2021. The data were entered into Epi-data version 4.2 and exported to SPSS version 25 for analysis after being checked for consistency. Associated variables with outcomes of traumatic brain injury were determined by a binary logistic regression model. The degree of association was interpreted by using AOR and a 95% confidence interval with a p-value less than or equal to 0.05 at 95% CI was considered statistically significant. RESULT: In this study road traffic injury was the most frequent cause of traumatic brain injuries among adult patients, accounting for 181 (37.5%), followed by assault, accounting for 117 (24.2%) which affects adult age groups. One-third of the participant had a moderate Glasgow coma scale of 174(36%). Only 128(26.8%) patients arrived within one hour. One hundred sixty, 160 (33.1%) of patients had a mild traumatic brain injury, whereas, 149(36%) of patients had a severe traumatic brain injury. Regarding computerized tomography scans findings, the hematoma was the most common (n\\u2009=\\u2009163, 33.7%). Ninety-one, 91(18.8%) of participants had cerebrospinal fluid otorrhea, and, 92(19%) were diagnosed with a positive battle sign. The overall prevalence of unfavorable outcomes after traumatic brain injury was found to be 35.2% (95%CI (30.8-39.1). Having additional Injury, hypoxia, time to hospital presentation after 24\\u00a0h, severe Glasgow Coma Scale, moderate Glasgow Coma Scale, tachypnea, bradypnea, and cerebrospinal fluid Othorrhea, were factors associated with unfavorable outcomes. CONCLUSION AND RECOMMENDATION: In this study, the overall unfavorable outcome was experienced by about four out of every 10 victims of traumatic brain injury. Time of arrival\\u2009>\\u200924\\u00a0h, low Glasgow coma scale, additional injury, Cerebrospinal fluid otorrhea, abnormal respiration, and hypoxia were significant predictors of unfavorable outcomes. To reduce the adverse effects of traumatic brain injury in adults, it is therefore desirable to guarantee safe road traffic flow and improve health care services.\",\n          \"SMi's sixth annual conference on Asthma & COPD, held in London, included topics covering new therapeutic developments in the field of asthma and COPD. This conference report highlights selected presentations on understanding these diseases; bronchodilators and corticosteroids, both of which remain a mainstay in asthma therapy; new developments in COPD therapy; PI3K inhibitors as a new treatment approach for asthma and COPD; and oligonucleotides, particularly DNAzyme therapy for asthma.\"\n        ],\n        \"semantic_type\": \"\",\n        \"description\": \"\"\n      }\n    },\n    {\n      \"column\": \"question\",\n      \"properties\": {\n        \"dtype\": \"string\",\n        \"num_unique_values\": 5000,\n        \"samples\": [\n          \"Are folinic acid-responsive seizures identical to pyridoxine-dependent epilepsy?\",\n          \"Does selective homocysteine-lowering gene transfer attenuate pressure overload-induced cardiomyopathy via reduced oxidative stress?\",\n          \"Is proteinuria still useful for the screening and diagnosis of overt diabetic nephropathy?\"\n        ],\n        \"semantic_type\": \"\",\n        \"description\": \"\"\n      }\n    },\n    {\n      \"column\": \"answer\",\n      \"properties\": {\n        \"dtype\": \"string\",\n        \"num_unique_values\": 5000,\n        \"samples\": [\n          \"These results demonstrate that folinic acid-responsive seizures are due to alpha-AASA dehydrogenase deficiency and mutations in the ALDH7A1 gene. Thus, folinic acid-responsive seizures are identical to the major form of pyridoxine-dependent epilepsy. We recommend consideration of treatment with both pyridoxine and folinic acid for patients with alpha-AASA dehydrogenase deficiency, and consideration of a lysine restricted diet. The evaluation of patients with neonatal epileptic encephalopathy, as well as those with later-onset seizures, should include a measurement of alpha-AASA in urine to identify this likely underdiagnosed and treatable disorder.\",\n          \"Plasma homocysteine levels predict heart failure incidence in epidemiological studies. Transverse aortic constriction (TAC) induces pressure overload. Selective homocysteine-lowering gene therapy reduces mortality after TAC. Selective homocysteine lowering attenuates cardiac hypertrophy and fibrosis after TAC. Decreased homocysteine levels enhance diastolic function and lower oxidative stress.\",\n          \"Measurements of proteinuria presented almost perfect accuracy for the screening and diagnosis of overt diabetic nephropathy. Protein measurement in spot urine is a reliable and simple method for the screening and diagnosis of overt diabetic nephropathy.\"\n        ],\n        \"semantic_type\": \"\",\n        \"description\": \"\"\n      }\n    }\n  ]\n}"
            }
          },
          "metadata": {},
          "execution_count": 39
        }
      ]
    },
    {
      "cell_type": "code",
      "source": [
        "class QA_Dataset(Dataset):\n",
        "    def __init__(self, tokenizer, dataframe, q_len, t_len):\n",
        "        self.tokenizer = tokenizer\n",
        "        self.q_len = q_len\n",
        "        self.t_len = t_len\n",
        "        self.data = dataframe\n",
        "        self.questions = self.data[\"question\"]\n",
        "        self.context = self.data[\"context\"]\n",
        "        self.answer = self.data['answer']\n",
        "\n",
        "    def __len__(self):\n",
        "        return len(self.questions)\n",
        "\n",
        "    def __getitem__(self, idx):\n",
        "        question = self.questions[idx]\n",
        "        context = self.context[idx]\n",
        "        answer = self.answer[idx]\n",
        "\n",
        "        question_tokenized = self.tokenizer(question, context, max_length=self.q_len, padding=\"max_length\",\n",
        "                                                    truncation=True, pad_to_max_length=True, add_special_tokens=True)\n",
        "        answer_tokenized = self.tokenizer(answer, max_length=self.t_len, padding=\"max_length\",\n",
        "                                          truncation=True, pad_to_max_length=True, add_special_tokens=True)\n",
        "\n",
        "        labels = torch.tensor(answer_tokenized[\"input_ids\"], dtype=torch.long)\n",
        "        labels[labels == 0] = -100\n",
        "\n",
        "        return {\n",
        "            \"input_ids\": torch.tensor(question_tokenized[\"input_ids\"], dtype=torch.long),\n",
        "            \"attention_mask\": torch.tensor(question_tokenized[\"attention_mask\"], dtype=torch.long),\n",
        "            \"labels\": labels,\n",
        "            \"decoder_attention_mask\": torch.tensor(answer_tokenized[\"attention_mask\"], dtype=torch.long)\n",
        "        }"
      ],
      "metadata": {
        "id": "pAyLHLldM8zM"
      },
      "execution_count": 40,
      "outputs": []
    },
    {
      "cell_type": "code",
      "source": [
        "train_data, val_data = train_test_split(data, test_size=0.2, random_state=42)\n",
        "\n",
        "train_sampler = RandomSampler(train_data.index)\n",
        "val_sampler = RandomSampler(val_data.index)\n",
        "\n",
        "qa_dataset = QA_Dataset(TOKENIZER, data, Q_LEN, T_LEN)\n",
        "\n",
        "train_loader = DataLoader(qa_dataset, batch_size=BATCH_SIZE, sampler=train_sampler)\n",
        "val_loader = DataLoader(qa_dataset, batch_size=BATCH_SIZE, sampler=val_sampler)"
      ],
      "metadata": {
        "id": "pFb1cJloNH8O"
      },
      "execution_count": 41,
      "outputs": []
    },
    {
      "cell_type": "code",
      "source": [
        "train_loss = 0\n",
        "val_loss = 0\n",
        "train_batch_count = 0\n",
        "val_batch_count = 0\n",
        "\n",
        "for epoch in range(number_of_epochs_to_finetune):\n",
        "    MODEL.train()\n",
        "    for batch in tqdm(train_loader, desc=\"Training batches\"):\n",
        "        input_ids = batch[\"input_ids\"].to(DEVICE)\n",
        "        attention_mask = batch[\"attention_mask\"].to(DEVICE)\n",
        "        labels = batch[\"labels\"].to(DEVICE)\n",
        "        decoder_attention_mask = batch[\"decoder_attention_mask\"].to(DEVICE)\n",
        "\n",
        "        outputs = MODEL(\n",
        "                          input_ids=input_ids,\n",
        "                          attention_mask=attention_mask,\n",
        "                          labels=labels,\n",
        "                          decoder_attention_mask=decoder_attention_mask\n",
        "                        )\n",
        "\n",
        "        OPTIMIZER.zero_grad()\n",
        "        outputs.loss.backward()\n",
        "        OPTIMIZER.step()\n",
        "        train_loss += outputs.loss.item()\n",
        "        train_batch_count += 1\n",
        "\n",
        "    #Evaluation\n",
        "    MODEL.eval()\n",
        "    for batch in tqdm(val_loader, desc=\"Validation batches\"):\n",
        "        input_ids = batch[\"input_ids\"].to(DEVICE)\n",
        "        attention_mask = batch[\"attention_mask\"].to(DEVICE)\n",
        "        labels = batch[\"labels\"].to(DEVICE)\n",
        "        decoder_attention_mask = batch[\"decoder_attention_mask\"].to(DEVICE)\n",
        "\n",
        "        outputs = MODEL(\n",
        "                          input_ids=input_ids,\n",
        "                          attention_mask=attention_mask,\n",
        "                          labels=labels,\n",
        "                          decoder_attention_mask=decoder_attention_mask\n",
        "                        )\n",
        "\n",
        "        OPTIMIZER.zero_grad()\n",
        "        outputs.loss.backward()\n",
        "        OPTIMIZER.step()\n",
        "        val_loss += outputs.loss.item()\n",
        "        val_batch_count += 1\n",
        "\n",
        "    print(f\"{epoch+1}/{2} -> Train loss: {train_loss / train_batch_count}\\tValidation loss: {val_loss/val_batch_count}\")"
      ],
      "metadata": {
        "colab": {
          "base_uri": "https://localhost:8080/"
        },
        "id": "M7s7XFEhNP9u",
        "outputId": "59724ac7-df45-40e2-8c56-70ef51d31dff"
      },
      "execution_count": 42,
      "outputs": [
        {
          "output_type": "stream",
          "name": "stderr",
          "text": [
            "Training batches: 100%|██████████| 1000/1000 [01:41<00:00,  9.87it/s]\n",
            "Validation batches: 100%|██████████| 250/250 [00:23<00:00, 10.74it/s]\n"
          ]
        },
        {
          "output_type": "stream",
          "name": "stdout",
          "text": [
            "1/2 -> Train loss: 3.772216245651245\tValidation loss: 3.275690980911255\n"
          ]
        },
        {
          "output_type": "stream",
          "name": "stderr",
          "text": [
            "Training batches: 100%|██████████| 1000/1000 [01:39<00:00, 10.08it/s]\n",
            "Validation batches: 100%|██████████| 250/250 [00:24<00:00, 10.29it/s]\n"
          ]
        },
        {
          "output_type": "stream",
          "name": "stdout",
          "text": [
            "2/2 -> Train loss: 3.635774898171425\tValidation loss: 3.2062063307762148\n"
          ]
        },
        {
          "output_type": "stream",
          "name": "stderr",
          "text": [
            "Training batches: 100%|██████████| 1000/1000 [01:39<00:00, 10.08it/s]\n",
            "Validation batches: 100%|██████████| 250/250 [00:23<00:00, 10.75it/s]\n"
          ]
        },
        {
          "output_type": "stream",
          "name": "stdout",
          "text": [
            "3/2 -> Train loss: 3.561261410713196\tValidation loss: 3.1539983507792155\n"
          ]
        },
        {
          "output_type": "stream",
          "name": "stderr",
          "text": [
            "Training batches: 100%|██████████| 1000/1000 [01:40<00:00, 10.00it/s]\n",
            "Validation batches: 100%|██████████| 250/250 [00:24<00:00, 10.12it/s]\n"
          ]
        },
        {
          "output_type": "stream",
          "name": "stdout",
          "text": [
            "4/2 -> Train loss: 3.5100118451714515\tValidation loss: 3.1105039484500887\n"
          ]
        },
        {
          "output_type": "stream",
          "name": "stderr",
          "text": [
            "Training batches: 100%|██████████| 1000/1000 [01:40<00:00,  9.99it/s]\n",
            "Validation batches: 100%|██████████| 250/250 [00:23<00:00, 10.56it/s]"
          ]
        },
        {
          "output_type": "stream",
          "name": "stdout",
          "text": [
            "5/2 -> Train loss: 3.469837168073654\tValidation loss: 3.072168512248993\n"
          ]
        },
        {
          "output_type": "stream",
          "name": "stderr",
          "text": [
            "\n"
          ]
        }
      ]
    },
    {
      "cell_type": "code",
      "source": [
        "MODEL.save_pretrained(\"qa_model\")\n",
        "TOKENIZER.save_pretrained(\"qa_tokenizer\")"
      ],
      "metadata": {
        "colab": {
          "base_uri": "https://localhost:8080/"
        },
        "id": "42HFv0SHNSiJ",
        "outputId": "fac2fe21-1e12-4224-e9a3-0c540bc70a16"
      },
      "execution_count": 43,
      "outputs": [
        {
          "output_type": "execute_result",
          "data": {
            "text/plain": [
              "('qa_tokenizer/tokenizer_config.json',\n",
              " 'qa_tokenizer/special_tokens_map.json',\n",
              " 'qa_tokenizer/spiece.model',\n",
              " 'qa_tokenizer/added_tokens.json',\n",
              " 'qa_tokenizer/tokenizer.json')"
            ]
          },
          "metadata": {},
          "execution_count": 43
        }
      ]
    },
    {
      "cell_type": "code",
      "source": [
        "def predict_answer(context, question):\n",
        "    inputs = TOKENIZER(question, context, max_length=Q_LEN, padding=\"max_length\", truncation=True, add_special_tokens=True)\n",
        "\n",
        "    input_ids = torch.tensor(inputs[\"input_ids\"], dtype=torch.long).to(DEVICE).unsqueeze(0)\n",
        "    attention_mask = torch.tensor(inputs[\"attention_mask\"], dtype=torch.long).to(DEVICE).unsqueeze(0)\n",
        "\n",
        "    outputs = MODEL.generate(input_ids=input_ids, attention_mask=attention_mask)\n",
        "\n",
        "    predicted_answer = TOKENIZER.decode(outputs.flatten(), skip_special_tokens=True)\n",
        "\n",
        "    return predicted_answer"
      ],
      "metadata": {
        "id": "aomvLKTSNwX4"
      },
      "execution_count": 44,
      "outputs": []
    },
    {
      "cell_type": "markdown",
      "source": [
        "# **Use T5**"
      ],
      "metadata": {
        "id": "Sq1e1Al6RYHN"
      }
    },
    {
      "cell_type": "code",
      "source": [
        "number_of_questions = 5000"
      ],
      "metadata": {
        "id": "0JhG80xDRabz"
      },
      "execution_count": 45,
      "outputs": []
    },
    {
      "cell_type": "code",
      "source": [
        "indices = random.sample(range(len(questions)), number_of_questions_to_finetune_with)\n",
        "\n",
        "questions_inference = list()\n",
        "contexts_inference = list()\n",
        "answers_inference = list()\n",
        "\n",
        "for i in tqdm(indices):\n",
        "    questions_inference.append(questions[i])\n",
        "    relevant_texts = retrieve_relevant_texts(questions[i], 1)\n",
        "    contexts_inference.append(relevant_texts[0])\n",
        "    answers_inference.append(answers[i])"
      ],
      "metadata": {
        "colab": {
          "base_uri": "https://localhost:8080/"
        },
        "id": "wNdGRwl4Rc7j",
        "outputId": "4f314a47-4c47-48e9-cc46-5964107ebbbe"
      },
      "execution_count": 46,
      "outputs": [
        {
          "output_type": "stream",
          "name": "stderr",
          "text": [
            "100%|██████████| 5000/5000 [25:58<00:00,  3.21it/s]\n"
          ]
        }
      ]
    },
    {
      "cell_type": "code",
      "source": [
        "predicted = list()\n",
        "labels = list()\n",
        "\n",
        "for i, question in tqdm(enumerate(questions_inference)):\n",
        "    context = contexts_inference[i]\n",
        "    answer = predict_answer(context, question)\n",
        "    true_answer = answers_inference[i]\n",
        "\n",
        "    predicted.append(answer)\n",
        "    labels.append(true_answer)"
      ],
      "metadata": {
        "colab": {
          "base_uri": "https://localhost:8080/"
        },
        "id": "IU62LnfpUQ6U",
        "outputId": "3785dfcb-35d0-475b-ca02-b48b5540344e"
      },
      "execution_count": 47,
      "outputs": [
        {
          "output_type": "stream",
          "name": "stderr",
          "text": [
            "5000it [17:33,  4.74it/s]\n"
          ]
        }
      ]
    },
    {
      "cell_type": "code",
      "source": [
        "bleu1_list = list()\n",
        "bleu2_list = list()\n",
        "bleu3_list = list()\n",
        "bleu4_list = list()\n",
        "rouge1_list = list()\n",
        "rouge2_list = list()\n",
        "rougel_list = list()\n",
        "bert_score_p = list()\n",
        "bert_score_r = list()\n",
        "bert_score_f = list()\n",
        "\n",
        "for i in tqdm(range(len(predicted))):\n",
        "    current_predict = predicted[i]\n",
        "    current_answer = labels[i]\n",
        "\n",
        "    # bleu\n",
        "    bleu_scores = calculate_bleu(current_predict, [current_answer])\n",
        "    bleu1_list.append(bleu_scores['BLEU-1'])\n",
        "    bleu2_list.append(bleu_scores['BLEU-2'])\n",
        "    bleu3_list.append(bleu_scores['BLEU-3'])\n",
        "    bleu4_list.append(bleu_scores['BLEU-4'])\n",
        "\n",
        "    # rouge\n",
        "    rouge_scores = calculate_rouge(current_predict, current_answer)\n",
        "    rouge1_list.append(rouge_scores['ROUGE-1'])\n",
        "    rouge2_list.append(rouge_scores['ROUGE-2'])\n",
        "    rougel_list.append(rouge_scores['ROUGE-L'])\n",
        "\n",
        "    # bert score\n",
        "    candidate_embeddings, candidate_mask = get_embeddings([current_predict], tokenizer, model)\n",
        "    reference_embeddings, reference_mask = get_embeddings([current_answer], tokenizer, model)\n",
        "    precision, recall, f1 = compute_bert_score(candidate_embeddings, reference_embeddings, candidate_mask, reference_mask)\n",
        "    bert_score_p.append(precision)\n",
        "    bert_score_r.append(recall)\n",
        "    bert_score_f.append(f1)"
      ],
      "metadata": {
        "colab": {
          "base_uri": "https://localhost:8080/"
        },
        "id": "6Frb2Wg_Pxhp",
        "outputId": "65c06162-46ca-4c41-e6f9-3a53403f0661"
      },
      "execution_count": 48,
      "outputs": [
        {
          "output_type": "stream",
          "name": "stderr",
          "text": [
            "100%|██████████| 5000/5000 [26:16<00:00,  3.17it/s]\n"
          ]
        }
      ]
    },
    {
      "cell_type": "code",
      "source": [
        "print(\"BLEU1:\", sum(bleu1_list) / len(bleu1_list))\n",
        "print(\"BLEU2:\", sum(bleu2_list) / len(bleu2_list))\n",
        "print(\"BLEU3:\", sum(bleu3_list) / len(bleu3_list))\n",
        "print(\"BLEU4:\", sum(bleu4_list) / len(bleu4_list))\n",
        "print(\"ROUGE1:\", sum(rouge1_list), len(rouge1_list))\n",
        "print(\"ROUGE2:\", sum(rouge2_list), len(rouge2_list))\n",
        "print(\"ROUGEL:\", sum(rougel_list), len(rougel_list))\n",
        "print(\"Precision:\", sum(bert_score_p)/ len(bert_score_p))\n",
        "print(\"Recall:\", sum(bert_score_r)/ len(bert_score_r))\n",
        "print(\"F1:\", sum(bert_score_f)/ len(bert_score_f))"
      ],
      "metadata": {
        "colab": {
          "base_uri": "https://localhost:8080/"
        },
        "id": "M4RoYfBuUjr0",
        "outputId": "988b89a7-0a55-4e5c-ad0d-6a5e947be717"
      },
      "execution_count": 49,
      "outputs": [
        {
          "output_type": "stream",
          "name": "stdout",
          "text": [
            "BLEU1: 0.06660845863536803\n",
            "BLEU2: 0.038089342919815077\n",
            "BLEU3: 0.025274728396583845\n",
            "BLEU4: 0.017335375954270975\n",
            "ROUGE1: 0.242278362747283\n",
            "ROUGE2: 0.08565645385427097\n",
            "ROUGEL: 0.1957105924303818\n",
            "Precision: 0.6963782396167517\n",
            "Recall: 0.5960357218682766\n",
            "F1: 0.640982002348318\n"
          ]
        }
      ]
    },
    {
      "cell_type": "code",
      "source": [],
      "metadata": {
        "id": "WMvAU-6YUlpk"
      },
      "execution_count": 49,
      "outputs": []
    }
  ],
  "metadata": {
    "colab": {
      "provenance": [],
      "collapsed_sections": [
        "B8vKlQH-I_0H",
        "shVCNvkAMH44",
        "Uff-oEg5_zoj",
        "i0XVkQ23mLqI",
        "Hu_TnVrAryLM",
        "V6bi82bCI_AG"
      ],
      "gpuType": "T4"
    },
    "kernelspec": {
      "display_name": "Python 3",
      "name": "python3"
    },
    "language_info": {
      "name": "python"
    },
    "accelerator": "GPU"
  },
  "nbformat": 4,
  "nbformat_minor": 0
}